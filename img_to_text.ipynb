{
 "cells": [
  {
   "cell_type": "code",
   "execution_count": null,
   "id": "7a1ffcdd-589f-4852-8463-df74ca8574d7",
   "metadata": {},
   "outputs": [],
   "source": [
    "# importing required libraries\n",
    "\n",
    "import pandas as pd\n",
    "import cv2\n",
    "import os\n",
    "import easyocr"
   ]
  },
  {
   "cell_type": "code",
   "execution_count": null,
   "id": "9faee681-1926-4fb3-99d8-c89b28c48e91",
   "metadata": {},
   "outputs": [],
   "source": [
    "# creating an empty list\n",
    "\n",
    "email = []"
   ]
  },
  {
   "cell_type": "code",
   "execution_count": null,
   "id": "78f5bc70-5f3f-4b41-9763-a32b504904b9",
   "metadata": {},
   "outputs": [],
   "source": [
    "# creating object for reading text from image\n",
    "\n",
    "reader = easyocr.Reader(['en'], gpu = False)"
   ]
  },
  {
   "cell_type": "code",
   "execution_count": null,
   "id": "160d3fdf-20d5-4e6a-8bea-2b2c41e4e4d8",
   "metadata": {},
   "outputs": [],
   "source": [
    "# creating a list of all screenshot names which is in screenshots folder. you can specify your folder name in which screenshots are present\n",
    "\n",
    "directory = os.listdir('screenshots')"
   ]
  },
  {
   "cell_type": "code",
   "execution_count": null,
   "id": "faa84fac-cab3-447b-8990-88dd6ffc71ce",
   "metadata": {},
   "outputs": [],
   "source": [
    "# for loop for reading every text from an image for all the images and getting only text where there is an @ in it. If you want to get text based on\n",
    "# some different text, you can enter it in place of '@'. If you want to specify a pattern, you can use 're' library(regular expression)\n",
    "\n",
    "for index1, value in enumerate(directory):\n",
    "    recognize = reader.readtext(f'./screenshots/{directory[index1]}')\n",
    "    for index, texts in enumerate(recognize):\n",
    "        result = recognize[index][1]\n",
    "        check = result.find('@')\n",
    "        if check > 0:\n",
    "            print(result)\n",
    "            email.append(result)"
   ]
  },
  {
   "cell_type": "code",
   "execution_count": null,
   "id": "b2478f17-9040-49d6-a3c6-413a131e7ab8",
   "metadata": {},
   "outputs": [],
   "source": [
    "# creating a dataframe from the list of emails\n",
    "\n",
    "email_df = pd.DataFrame(email)"
   ]
  },
  {
   "cell_type": "code",
   "execution_count": null,
   "id": "01048ca1-12e5-43d9-b418-214f674cbe9b",
   "metadata": {},
   "outputs": [],
   "source": [
    "# it is found that sometimes, it leaves a space where there is a dot, so with this, replacing that space with dot here\n",
    "\n",
    "email_df[0] = email_df[0].apply(lambda x : x.replace(' ','.'))"
   ]
  },
  {
   "cell_type": "code",
   "execution_count": null,
   "id": "8ba83b70-06fc-4a52-a277-aeebb94105fa",
   "metadata": {},
   "outputs": [],
   "source": [
    "# converting the dataframe to excel file\n",
    "\n",
    "email_df.to_excel('emails.xlsx', index = False)"
   ]
  }
 ],
 "metadata": {
  "kernelspec": {
   "display_name": "Python 3 (ipykernel)",
   "language": "python",
   "name": "python3"
  },
  "language_info": {
   "codemirror_mode": {
    "name": "ipython",
    "version": 3
   },
   "file_extension": ".py",
   "mimetype": "text/x-python",
   "name": "python",
   "nbconvert_exporter": "python",
   "pygments_lexer": "ipython3",
   "version": "3.9.15"
  }
 },
 "nbformat": 4,
 "nbformat_minor": 5
}
